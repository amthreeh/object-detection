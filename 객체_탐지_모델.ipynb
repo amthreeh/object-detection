{
  "nbformat": 4,
  "nbformat_minor": 0,
  "metadata": {
    "colab": {
      "provenance": [],
      "mount_file_id": "1-pKKiuAyD8GnpoO7QFCObBwHeCEELYmC",
      "authorship_tag": "ABX9TyNF7m/HxqWyh8wkuMRY0xR9",
      "include_colab_link": true
    },
    "kernelspec": {
      "name": "python3",
      "display_name": "Python 3"
    },
    "language_info": {
      "name": "python"
    }
  },
  "cells": [
    {
      "cell_type": "markdown",
      "metadata": {
        "id": "view-in-github",
        "colab_type": "text"
      },
      "source": [
        "<a href=\"https://colab.research.google.com/github/amthreeh/object-detection/blob/main/%EA%B0%9D%EC%B2%B4_%ED%83%90%EC%A7%80_%EB%AA%A8%EB%8D%B8.ipynb\" target=\"_parent\"><img src=\"https://colab.research.google.com/assets/colab-badge.svg\" alt=\"Open In Colab\"/></a>"
      ]
    },
    {
      "cell_type": "markdown",
      "source": [
        "#파이썬 버전 확인"
      ],
      "metadata": {
        "id": "sXee7cOv99NM"
      }
    },
    {
      "cell_type": "code",
      "source": [
        "import sys\n",
        "print(sys.version)"
      ],
      "metadata": {
        "colab": {
          "base_uri": "https://localhost:8080/"
        },
        "id": "mikPvm6O96tT",
        "outputId": "7f0bdde1-7a08-476f-bc14-a75ffb6716fd"
      },
      "execution_count": null,
      "outputs": [
        {
          "output_type": "stream",
          "name": "stdout",
          "text": [
            "3.8.10 (default, Nov 14 2022, 12:59:47) \n",
            "[GCC 9.4.0]\n"
          ]
        }
      ]
    },
    {
      "cell_type": "markdown",
      "source": [
        "#가상 환경 생성(생략)\n",
        "개체 감지 작업을 위한 가상 환경 생성, 활성화"
      ],
      "metadata": {
        "id": "J1A5G1I7-Ggo"
      }
    },
    {
      "cell_type": "markdown",
      "source": [
        "#데이터세트 준비\n",
        "## WGISD 데이터 세트로 리포지토리 복제"
      ],
      "metadata": {
        "id": "6ARP8W8XBu7W"
      }
    },
    {
      "cell_type": "code",
      "source": [
        "!git clone https://github.com/thsant/wgisd.git"
      ],
      "metadata": {
        "colab": {
          "base_uri": "https://localhost:8080/"
        },
        "id": "q-Fvk6BVB6KR",
        "outputId": "2710b098-b2c2-4ff6-dcae-24ef0013960e"
      },
      "execution_count": null,
      "outputs": [
        {
          "output_type": "stream",
          "name": "stdout",
          "text": [
            "Cloning into 'wgisd'...\n",
            "remote: Enumerating objects: 4267, done.\u001b[K\n",
            "remote: Counting objects: 100% (867/867), done.\u001b[K\n",
            "remote: Compressing objects: 100% (841/841), done.\u001b[K\n",
            "^C\n"
          ]
        }
      ]
    },
    {
      "cell_type": "code",
      "source": [
        "%cd data\n",
        "!git clone https://github.com/thsant/wgisd.git\n",
        "%cd wgisd\n",
        "!git checkout 6910edc5ae3aae8c20062941b1641821f0c30127"
      ],
      "metadata": {
        "colab": {
          "base_uri": "https://localhost:8080/"
        },
        "id": "6aEzTleKAI1K",
        "outputId": "ca76c3b2-3e30-4256-d012-65f27c314a81"
      },
      "execution_count": null,
      "outputs": [
        {
          "output_type": "stream",
          "name": "stdout",
          "text": [
            "[Errno 2] No such file or directory: 'data'\n",
            "/content/drive/MyDrive/data\n",
            "Cloning into 'wgisd'...\n",
            "remote: Enumerating objects: 4267, done.\u001b[K\n",
            "remote: Counting objects: 100% (867/867), done.\u001b[K\n",
            "remote: Compressing objects: 100% (841/841), done.\u001b[K\n",
            "remote: Total 4267 (delta 27), reused 859 (delta 24), pack-reused 3400\u001b[K\n",
            "Receiving objects: 100% (4267/4267), 1.39 GiB | 16.13 MiB/s, done.\n",
            "Resolving deltas: 100% (350/350), done.\n",
            "Updating files: 100% (1853/1853), done.\n",
            "/content/drive/MyDrive/data/wgisd\n",
            "Note: switching to '6910edc5ae3aae8c20062941b1641821f0c30127'.\n",
            "\n",
            "You are in 'detached HEAD' state. You can look around, make experimental\n",
            "changes and commit them, and you can discard any commits you make in this\n",
            "state without impacting any branches by switching back to a branch.\n",
            "\n",
            "If you want to create a new branch to retain commits you create, you may\n",
            "do so (now or later) by using -c with the switch command. Example:\n",
            "\n",
            "  git switch -c <new-branch-name>\n",
            "\n",
            "Or undo this operation with:\n",
            "\n",
            "  git switch -\n",
            "\n",
            "Turn off this advice by setting config variable advice.detachedHead to false\n",
            "\n",
            "HEAD is now at 6910edc Acknowledgements to Angelov (COCO-format annotations).\n"
          ]
        }
      ]
    },
    {
      "cell_type": "code",
      "source": [
        "{'data':\n",
        "  {'train':\n",
        "    {'ann-files': '/home/<username>/training_extensions/data/wgisd/coco_annotations/train_bbox_instances.json',\n",
        "     'data-roots': '/home/<username>/training_extensions/data/wgisd/data'},\n",
        "  'val':\n",
        "    {'ann-files': '/home/<username>/training_extensions/data/wgisd/coco_annotations/test_bbox_instances.json',\n",
        "     'data-roots': '/home/<username>/training_extensions/data/wgisd/data'},\n",
        "  'test':\n",
        "    {'ann-files': '/home/<username>/training_extensions/data/wgisd/coco_annotations/train_bbox_instances.json',\n",
        "     'data-roots': '/home/<username>/training_extensions/data/wgisd/data'}\n",
        "  }\n",
        "}"
      ],
      "metadata": {
        "colab": {
          "base_uri": "https://localhost:8080/"
        },
        "id": "YW69WeaTC0ZZ",
        "outputId": "3bbff474-1b17-426e-87a7-51dadab27c4a"
      },
      "execution_count": null,
      "outputs": [
        {
          "output_type": "execute_result",
          "data": {
            "text/plain": [
              "{'data': {'train': {'ann-files': '/home/<username>/training_extensions/data/wgisd/coco_annotations/train_bbox_instances.json',\n",
              "   'data-roots': '/home/<username>/training_extensions/data/wgisd/data'},\n",
              "  'val': {'ann-files': '/home/<username>/training_extensions/data/wgisd/coco_annotations/test_bbox_instances.json',\n",
              "   'data-roots': '/home/<username>/training_extensions/data/wgisd/data'},\n",
              "  'test': {'ann-files': '/home/<username>/training_extensions/data/wgisd/coco_annotations/train_bbox_instances.json',\n",
              "   'data-roots': '/home/<username>/training_extensions/data/wgisd/data'}}}"
            ]
          },
          "metadata": {},
          "execution_count": 20
        }
      ]
    },
    {
      "cell_type": "code",
      "source": [
        "(detection) ...$ otx find --template --task DETECTION\n",
        "+-----------+-----------------------------------+-------+---------------------------------------------------------------------------+\n",
        "|    TASK   |                 ID                |  NAME |                                    PATH                                   |\n",
        "+-----------+-----------------------------------+-------+---------------------------------------------------------------------------+\n",
        "| DETECTION |   Custom_Object_Detection_YOLOX   | YOLOX | otx/algorithms/detection/configs/detection/cspdarknet_yolox/template.yaml |\n",
        "| DETECTION |  Custom_Object_Detection_Gen3_SSD |  SSD  |  otx/algorithms/detection/configs/detection/mobilenetv2_ssd/template.yaml |\n",
        "| DETECTION | Custom_Object_Detection_Gen3_ATSS |  ATSS | otx/algorithms/detection/configs/detection/mobilenetv2_atss/template.yaml |\n",
        "+-----------+-----------------------------------+-------+---------------------------------------------------------------------------+"
      ],
      "metadata": {
        "id": "QKiO51CFNdQe",
        "colab": {
          "base_uri": "https://localhost:8080/",
          "height": 136
        },
        "outputId": "3c2d6fff-42af-4d86-9d14-5ec1a6cd4f3d"
      },
      "execution_count": 36,
      "outputs": [
        {
          "output_type": "error",
          "ename": "SyntaxError",
          "evalue": "ignored",
          "traceback": [
            "\u001b[0;36m  File \u001b[0;32m\"<ipython-input-36-879747a4b4e0>\"\u001b[0;36m, line \u001b[0;32m1\u001b[0m\n\u001b[0;31m    (detection) ...$ otx find --template --task DETECTION\u001b[0m\n\u001b[0m                ^\u001b[0m\n\u001b[0;31mSyntaxError\u001b[0m\u001b[0;31m:\u001b[0m invalid syntax\n"
          ]
        }
      ]
    },
    {
      "cell_type": "code",
      "source": [
        "(detection)...$ otx train otx/algorithms/detection/configs/detection/mobilenetv2_atss/template.yaml\n",
        "                          --train-ann-files data/wgisd/coco_annotations/train_bbox_instances.json\n",
        "                          --train-data-roots  data/wgisd/data\n",
        "                          --val-ann-files data/wgisd/coco_annotations/test_bbox_instances.json\n",
        "                          --val-data-roots data/wgisd/data\n",
        "                          --save-model-to outputs\n",
        "                          --work-dir outputs/logs\n",
        "                          --gpus 1"
      ],
      "metadata": {
        "colab": {
          "base_uri": "https://localhost:8080/",
          "height": 136
        },
        "id": "lFSQsgLqZwGh",
        "outputId": "f4b440af-1a11-40a6-a644-8f897d2ae9dd"
      },
      "execution_count": 34,
      "outputs": [
        {
          "output_type": "error",
          "ename": "SyntaxError",
          "evalue": "ignored",
          "traceback": [
            "\u001b[0;36m  File \u001b[0;32m\"<ipython-input-34-b3d76c165011>\"\u001b[0;36m, line \u001b[0;32m1\u001b[0m\n\u001b[0;31m    (detection)...$ otx train otx/algorithms/detection/configs/detection/mobilenetv2_atss/template.yaml\u001b[0m\n\u001b[0m               ^\u001b[0m\n\u001b[0;31mSyntaxError\u001b[0m\u001b[0;31m:\u001b[0m invalid syntax\n"
          ]
        }
      ]
    },
    {
      "cell_type": "code",
      "source": [
        "#(detection) ...$\n",
        "otx train otx/algorithms/detection/configs/detection/mobilenetv2_atss/template.yaml\n",
        "                          --train-ann-files data/wgisd/coco_annotations/train_bbox_instances.json\n",
        "                          --train-data-roots  data/wgisd/data\n",
        "                          --val-ann-files data/wgisd/coco_annotations/test_bbox_instances.json\n",
        "                          --val-data-roots data/wgisd/data\n",
        "                          --save-model-to outputs\n",
        "                          --work-dir outputs/logs\n",
        "                          --gpus 1"
      ],
      "metadata": {
        "colab": {
          "base_uri": "https://localhost:8080/",
          "height": 136
        },
        "id": "LRSl0g9I-tFL",
        "outputId": "0bcf8d85-48d0-4cde-b94a-7de500297ecc"
      },
      "execution_count": 32,
      "outputs": [
        {
          "output_type": "error",
          "ename": "SyntaxError",
          "evalue": "ignored",
          "traceback": [
            "\u001b[0;36m  File \u001b[0;32m\"<ipython-input-32-cf793fb19293>\"\u001b[0;36m, line \u001b[0;32m2\u001b[0m\n\u001b[0;31m    otx train otx/algorithms/detection/configs/detection/mobilenetv2_atss/template.yaml\u001b[0m\n\u001b[0m        ^\u001b[0m\n\u001b[0;31mSyntaxError\u001b[0m\u001b[0;31m:\u001b[0m invalid syntax\n"
          ]
        }
      ]
    },
    {
      "cell_type": "code",
      "source": [
        "(detection) ...$ otx train otx/algorithms/detection/configs/detection/mobilenetv2_atss/template.yaml\n",
        "                          --data data.yaml\n",
        "                          --save-model-to outputs\n",
        "                          --work-dir outputs/logs\n",
        "                          --gpus 1"
      ],
      "metadata": {
        "id": "2Zt8tdm3_B-e"
      },
      "execution_count": null,
      "outputs": []
    },
    {
      "cell_type": "code",
      "source": [
        "params --learning_parameters.batch_size 4 --learning_parameters.num_iters 100 --learning_parameters.enable_early_stopping false"
      ],
      "metadata": {
        "id": "Q5NvstWiA5Xu"
      },
      "execution_count": null,
      "outputs": []
    },
    {
      "cell_type": "code",
      "source": [
        "(detection) ...$ otx eval otx/algorithms/detection/configs/detection/mobilenetv2_atss/template.yaml\n",
        "                          --test-ann-files data/wgisd/coco_annotations/test_bbox_instances.json\n",
        "                          --test-data-roots data/wgisd/data\n",
        "                          --load-weights outputs/weights.pth\n",
        "                          --save-performance outputs/performance.json"
      ],
      "metadata": {
        "id": "fF9VcCS-A8-r"
      },
      "execution_count": null,
      "outputs": []
    },
    {
      "cell_type": "code",
      "source": [
        "(detection) ...$ otx eval otx/algorithms/detection/configs/detection/mobilenetv2_atss/template.yaml\n",
        "                          --data data.yaml\n",
        "                          --load-weights outputs/weights.pth\n",
        "                          --save-performance outputs/performance.json"
      ],
      "metadata": {
        "id": "VWMKPPbVA_oT"
      },
      "execution_count": null,
      "outputs": []
    },
    {
      "cell_type": "code",
      "source": [
        "(detection) ...$ otx eval otx/algorithms/detection/configs/detection/mobilenetv2_atss/template.yaml\n",
        "                          --data data.yaml\n",
        "                          --load-weights outputs/weights.pth\n",
        "                          params\n",
        "                          --postprocessing.confidence_threshold 0.5\n",
        "                          --postprocessing.result_based_confidence_threshold false\n",
        "\n"
      ],
      "metadata": {
        "id": "8Z8KD_mIBCti"
      },
      "execution_count": null,
      "outputs": []
    },
    {
      "cell_type": "code",
      "source": [
        "(detection) ...$ otx export otx/algorithms/detection/configs/detection/mobilenetv2_atss/template.yaml\n",
        "                            --load-weights outputs/weights.pth\n",
        "                            --save-model-to outputs/openvino/\n",
        "\n"
      ],
      "metadata": {
        "id": "vEvP9JN6BHYM"
      },
      "execution_count": null,
      "outputs": []
    },
    {
      "cell_type": "code",
      "source": [
        "(detection) ...$ otx eval otx/algorithms/detection/configs/detection/mobilenetv2_atss/template.yaml\n",
        "                          --test-ann-files data/wgisd/coco_annotations/test_bbox_instances.json\n",
        "                          --test-data-roots data/wgisd/data\n",
        "                          --load-weights outputs/openvino/openvino.xml\n",
        "                          --save-performance outputs/openvino/performance.json\n",
        "\n"
      ],
      "metadata": {
        "id": "j9lTcaweBTdc"
      },
      "execution_count": null,
      "outputs": []
    },
    {
      "cell_type": "code",
      "source": [
        "(detection) ...$ otx optimize otx/algorithms/detection/configs/detection/mobilenetv2_atss/template.yaml\n",
        "                              --train-ann-files data/wgisd/coco_annotations/train_bbox_instances.json\n",
        "                              --train-data-roots  data/wgisd/data\n",
        "                              --val-ann-files data/wgisd/coco_annotations/test_bbox_instances.json\n",
        "                              --val-data-roots data/wgisd/data\n",
        "                              --load-weights outputs/weights.pth\n",
        "                              --save-model-to outputs/nncf\n",
        "                              --save-performance outputs/nncf/performance.json\n"
      ],
      "metadata": {
        "id": "E8iw7FlQBbSy"
      },
      "execution_count": null,
      "outputs": []
    },
    {
      "cell_type": "code",
      "source": [
        "(detection) ...$ otx optimize otx/algorithms/detection/configs/detection/mobilenetv2_atss/template.yaml\n",
        "                              --train-ann-files data/wgisd/coco_annotations/train_bbox_instances.json\n",
        "                              --train-data-roots  data/wgisd/data\n",
        "                              --val-ann-files data/wgisd/coco_annotations/test_bbox_instances.json\n",
        "                              --val-data-roots data/wgisd/data\n",
        "                              --load-weights outputs/openvino/openvino.xml\n",
        "                              --save-model-to outputs/pot"
      ],
      "metadata": {
        "id": "FIUYelqzBiCG"
      },
      "execution_count": null,
      "outputs": []
    }
  ]
}